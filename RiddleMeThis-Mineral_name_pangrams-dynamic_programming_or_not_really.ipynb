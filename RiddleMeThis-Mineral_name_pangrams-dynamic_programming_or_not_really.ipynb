{
 "cells": [
  {
   "cell_type": "code",
   "execution_count": 1,
   "metadata": {
    "collapsed": true
   },
   "outputs": [],
   "source": [
    "import numpy as np\n",
    "import matplotlib.pyplot as plt\n",
    "import pandas as pd\n",
    "%matplotlib inline\n",
    "import string"
   ]
  },
  {
   "cell_type": "markdown",
   "metadata": {},
   "source": [
    "# Idea\n",
    "\n",
    "Get data\n",
    "- Calculate the name length\n",
    "- Calculate the chr set\n",
    "- Calculate the chr set length\n",
    "- Calculate the ratio for the chr set length and the name length\n",
    "- Remove the duplicate letter sets\n",
    "- Create dataframe with index=names, columns=alphabet\n",
    "- Calculate the letter distribution\n",
    "- Choose argmin(letter sum); The optimum set must have atleast one of these\n",
    "- Iterate through all argmin(letter sum) names:\n",
    "    - Recursion starts here\n",
    "    - Mark all name letters to False\n",
    "    - Update the letter distribution\n",
    "    - Choose argmin(letter sum); The optimum set must have atleast one of these, but due to n cutoff not all combinations are tested.\n",
    "    - Calculate the effective set length\n",
    "    - Calculate the effective ratio\n",
    "    - Choose the n first names with {the highest effective ratio / shortest length}\n",
    "    - Iterate through the chosen names\n",
    "    - The recursion ends here"
   ]
  },
  {
   "cell_type": "markdown",
   "metadata": {},
   "source": [
    "## Read data and calculate some properties"
   ]
  },
  {
   "cell_type": "code",
   "execution_count": 2,
   "metadata": {
    "collapsed": false
   },
   "outputs": [],
   "source": [
    "names_df = pd.read_csv(\"./IMA_mineral_names.txt\", sep=',', header=None, names=['names'])\n",
    "names_df['names'] = names_df['names'].str.strip().str.lower()"
   ]
  },
  {
   "cell_type": "code",
   "execution_count": 3,
   "metadata": {
    "collapsed": false
   },
   "outputs": [],
   "source": [
    "names_df['len'] = names_df['names'].str.len()"
   ]
  },
  {
   "cell_type": "code",
   "execution_count": 4,
   "metadata": {
    "collapsed": false
   },
   "outputs": [],
   "source": [
    "names_df['tuple'] = names_df['names'].apply(lambda x: tuple(sorted(set(x))))"
   ]
  },
  {
   "cell_type": "code",
   "execution_count": 5,
   "metadata": {
    "collapsed": false
   },
   "outputs": [],
   "source": [
    "names_df['setlen'] = names_df['tuple'].apply(lambda x: len(x))"
   ]
  },
  {
   "cell_type": "code",
   "execution_count": 6,
   "metadata": {
    "collapsed": false
   },
   "outputs": [],
   "source": [
    "names_df['set_per_len'] = names_df['setlen']/names_df['len']"
   ]
  },
  {
   "cell_type": "code",
   "execution_count": 7,
   "metadata": {
    "collapsed": false
   },
   "outputs": [
    {
     "data": {
      "text/html": [
       "<div>\n",
       "<table border=\"1\" class=\"dataframe\">\n",
       "  <thead>\n",
       "    <tr style=\"text-align: right;\">\n",
       "      <th></th>\n",
       "      <th>names</th>\n",
       "      <th>len</th>\n",
       "      <th>tuple</th>\n",
       "      <th>setlen</th>\n",
       "      <th>set_per_len</th>\n",
       "    </tr>\n",
       "  </thead>\n",
       "  <tbody>\n",
       "    <tr>\n",
       "      <th>0</th>\n",
       "      <td>abellaite</td>\n",
       "      <td>9</td>\n",
       "      <td>(a, b, e, i, l, t)</td>\n",
       "      <td>6</td>\n",
       "      <td>0.666667</td>\n",
       "    </tr>\n",
       "    <tr>\n",
       "      <th>1</th>\n",
       "      <td>abelsonite</td>\n",
       "      <td>10</td>\n",
       "      <td>(a, b, e, i, l, n, o, s, t)</td>\n",
       "      <td>9</td>\n",
       "      <td>0.900000</td>\n",
       "    </tr>\n",
       "    <tr>\n",
       "      <th>2</th>\n",
       "      <td>abernathyite</td>\n",
       "      <td>12</td>\n",
       "      <td>(a, b, e, h, i, n, r, t, y)</td>\n",
       "      <td>9</td>\n",
       "      <td>0.750000</td>\n",
       "    </tr>\n",
       "    <tr>\n",
       "      <th>3</th>\n",
       "      <td>abhurite</td>\n",
       "      <td>8</td>\n",
       "      <td>(a, b, e, h, i, r, t, u)</td>\n",
       "      <td>8</td>\n",
       "      <td>1.000000</td>\n",
       "    </tr>\n",
       "    <tr>\n",
       "      <th>4</th>\n",
       "      <td>abramovite</td>\n",
       "      <td>10</td>\n",
       "      <td>(a, b, e, i, m, o, r, t, v)</td>\n",
       "      <td>9</td>\n",
       "      <td>0.900000</td>\n",
       "    </tr>\n",
       "  </tbody>\n",
       "</table>\n",
       "</div>"
      ],
      "text/plain": [
       "          names  len                        tuple  setlen  set_per_len\n",
       "0     abellaite    9           (a, b, e, i, l, t)       6     0.666667\n",
       "1    abelsonite   10  (a, b, e, i, l, n, o, s, t)       9     0.900000\n",
       "2  abernathyite   12  (a, b, e, h, i, n, r, t, y)       9     0.750000\n",
       "3      abhurite    8     (a, b, e, h, i, r, t, u)       8     1.000000\n",
       "4    abramovite   10  (a, b, e, i, m, o, r, t, v)       9     0.900000"
      ]
     },
     "execution_count": 7,
     "metadata": {},
     "output_type": "execute_result"
    }
   ],
   "source": [
    "names_df.head(5)"
   ]
  },
  {
   "cell_type": "code",
   "execution_count": 8,
   "metadata": {
    "collapsed": false
   },
   "outputs": [
    {
     "data": {
      "text/plain": [
       "3912"
      ]
     },
     "execution_count": 8,
     "metadata": {},
     "output_type": "execute_result"
    }
   ],
   "source": [
    "len(names_df)"
   ]
  },
  {
   "cell_type": "markdown",
   "metadata": {},
   "source": [
    "## Remove duplicates"
   ]
  },
  {
   "cell_type": "code",
   "execution_count": 9,
   "metadata": {
    "collapsed": true
   },
   "outputs": [],
   "source": [
    "def sort_and_return_smallest(df):\n",
    "    if len(df) == 1:\n",
    "        return df\n",
    "    df = df.sort_values(by=['len', 'names'])\n",
    "    return df.iloc[:1, :]"
   ]
  },
  {
   "cell_type": "code",
   "execution_count": 10,
   "metadata": {
    "collapsed": false,
    "scrolled": true
   },
   "outputs": [
    {
     "name": "stdout",
     "output_type": "stream",
     "text": [
      "Wall time: 7.92 s\n"
     ]
    },
    {
     "data": {
      "text/plain": [
       "3187"
      ]
     },
     "execution_count": 10,
     "metadata": {},
     "output_type": "execute_result"
    }
   ],
   "source": [
    "%time names_set = names_df.groupby(by='tuple', as_index=False).apply(sort_and_return_smallest)\n",
    "len(names_set)"
   ]
  },
  {
   "cell_type": "code",
   "execution_count": 11,
   "metadata": {
    "collapsed": true
   },
   "outputs": [],
   "source": [
    "def sort_and_return_smallest_duplicates(df):\n",
    "    if len(df) == 1:\n",
    "        return list(df['names'])\n",
    "    df = df.sort_values(by=['len', 'names'])\n",
    "    names = df.loc[df['len'] == df['len'].iloc[0], 'names']\n",
    "    return list(names)"
   ]
  },
  {
   "cell_type": "code",
   "execution_count": 12,
   "metadata": {
    "collapsed": false
   },
   "outputs": [
    {
     "name": "stdout",
     "output_type": "stream",
     "text": [
      "Wall time: 3.03 s\n"
     ]
    },
    {
     "data": {
      "text/plain": [
       "3187"
      ]
     },
     "execution_count": 12,
     "metadata": {},
     "output_type": "execute_result"
    }
   ],
   "source": [
    "%time names_duplicates = names_df.groupby(by='tuple', as_index=False).apply(sort_and_return_smallest_duplicates)\n",
    "len(names_duplicates)"
   ]
  },
  {
   "cell_type": "code",
   "execution_count": 13,
   "metadata": {
    "collapsed": false
   },
   "outputs": [],
   "source": [
    "# In case some of these are in the chosen set\n",
    "duplicate_name_dict = {}\n",
    "for value in names_duplicates:\n",
    "    if len(value) > 1:\n",
    "        duplicate_name_dict[value[0]] = value[1:]"
   ]
  },
  {
   "cell_type": "code",
   "execution_count": 14,
   "metadata": {
    "collapsed": false
   },
   "outputs": [
    {
     "data": {
      "text/html": [
       "<div>\n",
       "<table border=\"1\" class=\"dataframe\">\n",
       "  <thead>\n",
       "    <tr style=\"text-align: right;\">\n",
       "      <th></th>\n",
       "      <th>len</th>\n",
       "      <th>tuple</th>\n",
       "      <th>setlen</th>\n",
       "      <th>set_per_len</th>\n",
       "    </tr>\n",
       "    <tr>\n",
       "      <th>names</th>\n",
       "      <th></th>\n",
       "      <th></th>\n",
       "      <th></th>\n",
       "      <th></th>\n",
       "    </tr>\n",
       "  </thead>\n",
       "  <tbody>\n",
       "    <tr>\n",
       "      <th>addibischoffite</th>\n",
       "      <td>15</td>\n",
       "      <td>(a, b, c, d, e, f, h, i, o, s, t)</td>\n",
       "      <td>11</td>\n",
       "      <td>0.733333</td>\n",
       "    </tr>\n",
       "    <tr>\n",
       "      <th>molybdofornacite</th>\n",
       "      <td>16</td>\n",
       "      <td>(a, b, c, d, e, f, i, l, m, n, o, r, t, y)</td>\n",
       "      <td>14</td>\n",
       "      <td>0.875000</td>\n",
       "    </tr>\n",
       "    <tr>\n",
       "      <th>burckhardtite</th>\n",
       "      <td>13</td>\n",
       "      <td>(a, b, c, d, e, h, i, k, r, t, u)</td>\n",
       "      <td>11</td>\n",
       "      <td>0.846154</td>\n",
       "    </tr>\n",
       "    <tr>\n",
       "      <th>buchwaldite</th>\n",
       "      <td>11</td>\n",
       "      <td>(a, b, c, d, e, h, i, l, t, u, w)</td>\n",
       "      <td>11</td>\n",
       "      <td>1.000000</td>\n",
       "    </tr>\n",
       "    <tr>\n",
       "      <th>medenbachite</th>\n",
       "      <td>12</td>\n",
       "      <td>(a, b, c, d, e, h, i, m, n, t)</td>\n",
       "      <td>10</td>\n",
       "      <td>0.833333</td>\n",
       "    </tr>\n",
       "  </tbody>\n",
       "</table>\n",
       "</div>"
      ],
      "text/plain": [
       "                  len                                       tuple  setlen  \\\n",
       "names                                                                       \n",
       "addibischoffite    15           (a, b, c, d, e, f, h, i, o, s, t)      11   \n",
       "molybdofornacite   16  (a, b, c, d, e, f, i, l, m, n, o, r, t, y)      14   \n",
       "burckhardtite      13           (a, b, c, d, e, h, i, k, r, t, u)      11   \n",
       "buchwaldite        11           (a, b, c, d, e, h, i, l, t, u, w)      11   \n",
       "medenbachite       12              (a, b, c, d, e, h, i, m, n, t)      10   \n",
       "\n",
       "                  set_per_len  \n",
       "names                          \n",
       "addibischoffite      0.733333  \n",
       "molybdofornacite     0.875000  \n",
       "burckhardtite        0.846154  \n",
       "buchwaldite          1.000000  \n",
       "medenbachite         0.833333  "
      ]
     },
     "execution_count": 14,
     "metadata": {},
     "output_type": "execute_result"
    }
   ],
   "source": [
    "names_set.set_index(['names'], inplace=True)\n",
    "names_set.head()"
   ]
  },
  {
   "cell_type": "markdown",
   "metadata": {},
   "source": [
    "## Create letter table"
   ]
  },
  {
   "cell_type": "code",
   "execution_count": 15,
   "metadata": {
    "collapsed": false
   },
   "outputs": [],
   "source": [
    "letter_df = pd.DataFrame(index=names_set.index, columns=list(string.ascii_lowercase), dtype=bool)\n",
    "letter_df.loc[:] = False"
   ]
  },
  {
   "cell_type": "code",
   "execution_count": 16,
   "metadata": {
    "collapsed": false
   },
   "outputs": [
    {
     "name": "stdout",
     "output_type": "stream",
     "text": [
      "Wall time: 11.2 s\n"
     ]
    }
   ],
   "source": [
    "%%time\n",
    "for name, set_ in zip(names_set.index, names_set['tuple']):\n",
    "    for letter in set_:\n",
    "        letter_df.loc[name, letter] = True"
   ]
  },
  {
   "cell_type": "markdown",
   "metadata": {},
   "source": [
    "## Find argmin in the letter distribution"
   ]
  },
  {
   "cell_type": "code",
   "execution_count": 17,
   "metadata": {
    "collapsed": false
   },
   "outputs": [
    {
     "data": {
      "text/plain": [
       "'q'"
      ]
     },
     "execution_count": 17,
     "metadata": {},
     "output_type": "execute_result"
    }
   ],
   "source": [
    "lowest_count_letter = letter_df.sum(0).argmin()\n",
    "lowest_count_letter"
   ]
  },
  {
   "cell_type": "code",
   "execution_count": 18,
   "metadata": {
    "collapsed": false
   },
   "outputs": [
    {
     "data": {
      "text/html": [
       "<div>\n",
       "<table border=\"1\" class=\"dataframe\">\n",
       "  <thead>\n",
       "    <tr style=\"text-align: right;\">\n",
       "      <th></th>\n",
       "      <th>len</th>\n",
       "      <th>set_per_len</th>\n",
       "    </tr>\n",
       "    <tr>\n",
       "      <th>names</th>\n",
       "      <th></th>\n",
       "      <th></th>\n",
       "    </tr>\n",
       "  </thead>\n",
       "  <tbody>\n",
       "    <tr>\n",
       "      <th>aluminocoquimbite</th>\n",
       "      <td>17</td>\n",
       "      <td>0.705882</td>\n",
       "    </tr>\n",
       "    <tr>\n",
       "      <th>barquillite</th>\n",
       "      <td>11</td>\n",
       "      <td>0.818182</td>\n",
       "    </tr>\n",
       "    <tr>\n",
       "      <th>jacquesdietrichite</th>\n",
       "      <td>18</td>\n",
       "      <td>0.666667</td>\n",
       "    </tr>\n",
       "    <tr>\n",
       "      <th>coquandite</th>\n",
       "      <td>10</td>\n",
       "      <td>1.000000</td>\n",
       "    </tr>\n",
       "    <tr>\n",
       "      <th>quetzalcoatlite</th>\n",
       "      <td>15</td>\n",
       "      <td>0.666667</td>\n",
       "    </tr>\n",
       "  </tbody>\n",
       "</table>\n",
       "</div>"
      ],
      "text/plain": [
       "                    len  set_per_len\n",
       "names                               \n",
       "aluminocoquimbite    17     0.705882\n",
       "barquillite          11     0.818182\n",
       "jacquesdietrichite   18     0.666667\n",
       "coquandite           10     1.000000\n",
       "quetzalcoatlite      15     0.666667"
      ]
     },
     "execution_count": 18,
     "metadata": {},
     "output_type": "execute_result"
    }
   ],
   "source": [
    "# Get subset based on the chosen letter\n",
    "subsetlen = letter_df[letter_df[lowest_count_letter]].sum(1)\n",
    "name_len = subsetlen.index.str.len()\n",
    "\n",
    "setlen = pd.DataFrame({'set_per_len' : subsetlen/name_len, 'len' : name_len})\n",
    "setlen.head()"
   ]
  },
  {
   "cell_type": "markdown",
   "metadata": {},
   "source": [
    "## Recursion"
   ]
  },
  {
   "cell_type": "code",
   "execution_count": 58,
   "metadata": {
    "collapsed": false
   },
   "outputs": [],
   "source": [
    "def get_min_set(df, current_items, m=46, sort_by_len=False, n_search=20):\n",
    "    # Gather results\n",
    "    results = []\n",
    "    # Get letter with lowest number of options\n",
    "    letter = df.sum(0)\n",
    "    letter = letter[letter > 0].argmin()\n",
    "    # Get subset based on the chosen letter\n",
    "    subsetlen = df.loc[df[letter], :].sum(1)\n",
    "    name_len = subsetlen.index.str.len()\n",
    "    \n",
    "    setlen = pd.DataFrame({'set_per_len' : subsetlen/name_len, 'len' : name_len})\n",
    "    if sort_by_len:\n",
    "        order_of_operations = setlen.sort_values(by=['len', 'set_per_len'], ascending=True).index\n",
    "    else:\n",
    "        order_of_operations = setlen.sort_values(by=['set_per_len', 'len'], ascending=False).index\n",
    "    # Loop over the mineral names with chosen letter\n",
    "    # Ordered based on the (setlen / len)\n",
    "    for i, (name, letter_bool) in enumerate(df.loc[order_of_operations, :].iterrows()):\n",
    "        if i > n_search:\n",
    "            break\n",
    "        if sum(map(len, current_items))+len(name) >= m:\n",
    "            continue\n",
    "        # Get df containing rest of the letters\n",
    "        df_ = df.copy()\n",
    "        df_.loc[:, letter_bool] = False\n",
    "        \n",
    "        # If letters are exhausted there is one result\n",
    "        # Check if the result is less than chosen limit m\n",
    "        if df_.sum(0).sum() == 0 and sum(map(len, current_items))+len(name) < m:\n",
    "            # This result is \"the most optimal\" under these names\n",
    "            current_items_ = current_items + [name]\n",
    "            len_current_items_ = sum(map(len, current_items_))\n",
    "            len_unique = len(set(\"\".join(current_items_)))\n",
    "            results.append((len_current_items_, current_items_))\n",
    "            if len_current_items_ < 41:\n",
    "                print(\"len\", len_current_items_, \"len_unique\", len_unique, current_items_, \"place 1\", flush=True)\n",
    "            continue\n",
    "        \n",
    "        # Remove mineral names without new letters \n",
    "        df_ = df_.loc[df_.sum(1) != 0, :]\n",
    "        \n",
    "        if df_.sum(0).sum() == 0:\n",
    "            if sum(map(len, current_items))+len(name) < m:\n",
    "                unique_letters = sum(map(len, map(set, current_items + [name])))\n",
    "                if unique_letters == len(string.ascii_lowercase):\n",
    "                    # Here is one result (?)\n",
    "                    current_items_ = current_items + [name]\n",
    "                    len_current_items_ = sum(map(len, current_items_))\n",
    "                    len_unique = len(set(\"\".join(current_items_)))\n",
    "                    results.append((len_current_items_, current_items_))\n",
    "                    if len_current_items_ < 41:\n",
    "                        print(\"len\", len_current_items_, \"len_unique\", len_unique, current_items_, \"place 1\", flush=True)\n",
    "            continue\n",
    "        \n",
    "        current_items_ = current_items + [name]\n",
    "        optimal_result = get_min_set(df_, current_items_, m=m, sort_by_len=sort_by_len, n_search=n_search)\n",
    "        if len(optimal_result):\n",
    "            results.extend(optimal_result)\n",
    "    return results"
   ]
  },
  {
   "cell_type": "markdown",
   "metadata": {},
   "source": [
    "##  The effective ratio criteria"
   ]
  },
  {
   "cell_type": "code",
   "execution_count": 59,
   "metadata": {
    "collapsed": false,
    "scrolled": false
   },
   "outputs": [
    {
     "name": "stdout",
     "output_type": "stream",
     "text": [
      "coquandite 1 / 40\n",
      "qusongite 2 / 40\n",
      "naquite 3 / 40\n",
      "quartz 4 / 40\n",
      "len 40 len_unique 26 ['quartz', 'vanoxite', 'jedwabite', 'fukuchilite', 'gypsum'] place 1\n",
      "len 40 len_unique 26 ['quartz', 'xifengite', 'jedwabite', 'chkalovite', 'gypsum'] place 1\n",
      "goldquarryite 5 / 40\n",
      "quadruphite 6 / 40\n",
      "coquimbite 7 / 40\n",
      "qandilite 8 / 40\n",
      "turquoise 9 / 40\n",
      "quadridavyne 10 / 40\n",
      "mapiquiroite 11 / 40\n",
      "holmquistite 12 / 40\n",
      "barquillite 13 / 40\n",
      "macquartite 14 / 40\n",
      "quijarroite 15 / 40\n",
      "colquiriite 16 / 40\n",
      "quadratite 17 / 40\n",
      "quenselite 18 / 40\n",
      "penobsquisite 19 / 40\n",
      "pirquitasite 20 / 40\n",
      "lindqvistite 21 / 40\n",
      "nesquehonite 22 / 40\n",
      "taseqite 23 / 40\n",
      "qingsongite 24 / 40\n",
      "rodalquilarite 25 / 40\n",
      "aluminocoquimbite 26 / 40\n",
      "manganoquadratite 27 / 40\n",
      "qatranaite 28 / 40\n",
      "qingheiite 29 / 40\n",
      "esquireite 30 / 40\n",
      "qilianshanite 31 / 40\n",
      "jacquesdietrichite 32 / 40\n",
      "quetzalcoatlite 33 / 40\n",
      "tranquillityite 34 / 40\n",
      "quenstedtite 35 / 40\n",
      "queitite 36 / 40\n",
      "qitianlingite 37 / 40\n",
      "arsenquatrandorite 38 / 40\n",
      "strontiojoaquinite 39 / 40\n",
      "quintinite 40 / 40\n",
      "Wall time: 2h 12min 33s\n"
     ]
    }
   ],
   "source": [
    "%%time\n",
    "res_list = []\n",
    "order_of_oparations = setlen.loc[letter_df.loc[:, lowest_count_letter], :].sort_values(by=['set_per_len', 'len'], ascending=False).index\n",
    "\n",
    "for i, (name, letter_bool) in enumerate(letter_df.ix[order_of_oparations].iterrows()):\n",
    "    print(name, i+1, \"/\", len(order_of_oparations), flush=True)\n",
    "    df_ = letter_df.copy()\n",
    "    df_.loc[:, letter_bool] = False\n",
    "    res = get_min_set(df_, [name], m=45, sort_by_len=False, n_search=20)\n",
    "    res_list.extend(res)"
   ]
  },
  {
   "cell_type": "code",
   "execution_count": 60,
   "metadata": {
    "collapsed": false
   },
   "outputs": [],
   "source": [
    "res_df = pd.DataFrame([[item[0]] + item[1] for item in res_list]).sort_values(by=0)"
   ]
  },
  {
   "cell_type": "code",
   "execution_count": 61,
   "metadata": {
    "collapsed": false
   },
   "outputs": [
    {
     "data": {
      "text/html": [
       "<div>\n",
       "<table border=\"1\" class=\"dataframe\">\n",
       "  <thead>\n",
       "    <tr style=\"text-align: right;\">\n",
       "      <th></th>\n",
       "      <th>0</th>\n",
       "      <th>1</th>\n",
       "      <th>2</th>\n",
       "      <th>3</th>\n",
       "      <th>4</th>\n",
       "      <th>5</th>\n",
       "      <th>6</th>\n",
       "      <th>7</th>\n",
       "    </tr>\n",
       "  </thead>\n",
       "  <tbody>\n",
       "    <tr>\n",
       "      <th>140</th>\n",
       "      <td>40</td>\n",
       "      <td>quartz</td>\n",
       "      <td>vanoxite</td>\n",
       "      <td>jedwabite</td>\n",
       "      <td>fukuchilite</td>\n",
       "      <td>gypsum</td>\n",
       "      <td>None</td>\n",
       "      <td>None</td>\n",
       "    </tr>\n",
       "    <tr>\n",
       "      <th>231</th>\n",
       "      <td>40</td>\n",
       "      <td>quartz</td>\n",
       "      <td>xifengite</td>\n",
       "      <td>jedwabite</td>\n",
       "      <td>chkalovite</td>\n",
       "      <td>gypsum</td>\n",
       "      <td>None</td>\n",
       "      <td>None</td>\n",
       "    </tr>\n",
       "    <tr>\n",
       "      <th>64</th>\n",
       "      <td>41</td>\n",
       "      <td>quartz</td>\n",
       "      <td>wilcoxite</td>\n",
       "      <td>vajdakite</td>\n",
       "      <td>hafnon</td>\n",
       "      <td>beryl</td>\n",
       "      <td>gypsum</td>\n",
       "      <td>None</td>\n",
       "    </tr>\n",
       "    <tr>\n",
       "      <th>144</th>\n",
       "      <td>41</td>\n",
       "      <td>quartz</td>\n",
       "      <td>vanoxite</td>\n",
       "      <td>jedwabite</td>\n",
       "      <td>feklichevite</td>\n",
       "      <td>gypsum</td>\n",
       "      <td>None</td>\n",
       "      <td>None</td>\n",
       "    </tr>\n",
       "    <tr>\n",
       "      <th>109</th>\n",
       "      <td>41</td>\n",
       "      <td>quartz</td>\n",
       "      <td>haxonite</td>\n",
       "      <td>jedwabite</td>\n",
       "      <td>feklichevite</td>\n",
       "      <td>gypsum</td>\n",
       "      <td>None</td>\n",
       "      <td>None</td>\n",
       "    </tr>\n",
       "  </tbody>\n",
       "</table>\n",
       "</div>"
      ],
      "text/plain": [
       "      0       1          2          3             4       5       6     7\n",
       "140  40  quartz   vanoxite  jedwabite   fukuchilite  gypsum    None  None\n",
       "231  40  quartz  xifengite  jedwabite    chkalovite  gypsum    None  None\n",
       "64   41  quartz  wilcoxite  vajdakite        hafnon   beryl  gypsum  None\n",
       "144  41  quartz   vanoxite  jedwabite  feklichevite  gypsum    None  None\n",
       "109  41  quartz   haxonite  jedwabite  feklichevite  gypsum    None  None"
      ]
     },
     "execution_count": 61,
     "metadata": {},
     "output_type": "execute_result"
    }
   ],
   "source": [
    "res_df.head()"
   ]
  },
  {
   "cell_type": "markdown",
   "metadata": {},
   "source": [
    "## The shortest name length criteria"
   ]
  },
  {
   "cell_type": "code",
   "execution_count": 64,
   "metadata": {
    "collapsed": false
   },
   "outputs": [
    {
     "name": "stdout",
     "output_type": "stream",
     "text": [
      " "
     ]
    },
    {
     "ename": "KeyboardInterrupt",
     "evalue": "",
     "output_type": "error",
     "traceback": [
      "\u001b[0;31m---------------------------------------------------------------------------\u001b[0m",
      "\u001b[0;31mKeyboardInterrupt\u001b[0m                         Traceback (most recent call last)",
      "\u001b[0;31mKeyboardInterrupt\u001b[0m: "
     ]
    }
   ],
   "source": [
    "%%time\n",
    "res_list_ = []\n",
    "order_of_oparations = setlen.loc[letter_df.loc[:, lowest_count_letter], :].sort_values(by=['set_per_len', 'len'], ascending=False).index\n",
    "\n",
    "for i, (name, letter_bool) in enumerate(letter_df.ix[order_of_oparations].iterrows()):\n",
    "    print(name, i+1, \"/\", len(order_of_oparations), flush=True)\n",
    "    df_ = letter_df.copy()\n",
    "    df_.loc[:, letter_bool] = False\n",
    "    res_ = get_min_set(df_, [name], m=45, sort_by_len=True, n_search=20)\n",
    "    res_list_.extend(res_)"
   ]
  },
  {
   "cell_type": "code",
   "execution_count": 72,
   "metadata": {
    "collapsed": false
   },
   "outputs": [],
   "source": [
    "#res_df_ = pd.DataFrame([[item[0]] + item[1] for item in res_list_]).sort_values(by=0)"
   ]
  },
  {
   "cell_type": "code",
   "execution_count": 81,
   "metadata": {
    "collapsed": false
   },
   "outputs": [
    {
     "data": {
      "text/plain": [
       "(287, 8)"
      ]
     },
     "execution_count": 81,
     "metadata": {},
     "output_type": "execute_result"
    }
   ],
   "source": [
    "res_df.shape #, res_df_.shape"
   ]
  },
  {
   "cell_type": "markdown",
   "metadata": {},
   "source": [
    "## Save the results"
   ]
  },
  {
   "cell_type": "code",
   "execution_count": 82,
   "metadata": {
    "collapsed": false
   },
   "outputs": [
    {
     "name": "stdout",
     "output_type": "stream",
     "text": [
      "Wall time: 15.6 ms\n"
     ]
    }
   ],
   "source": [
    "%time res_df.to_csv(\"./example_but_not_optimum_no_duplicates.csv\")"
   ]
  },
  {
   "cell_type": "code",
   "execution_count": 83,
   "metadata": {
    "collapsed": false
   },
   "outputs": [],
   "source": [
    "optimum = res_df[res_df[0] == res_df.iloc[0, 0]]"
   ]
  },
  {
   "cell_type": "markdown",
   "metadata": {},
   "source": [
    "## Check for duplicates"
   ]
  },
  {
   "cell_type": "code",
   "execution_count": 84,
   "metadata": {
    "collapsed": false
   },
   "outputs": [
    {
     "data": {
      "text/html": [
       "<div>\n",
       "<table border=\"1\" class=\"dataframe\">\n",
       "  <thead>\n",
       "    <tr style=\"text-align: right;\">\n",
       "      <th></th>\n",
       "      <th>1</th>\n",
       "      <th>2</th>\n",
       "      <th>3</th>\n",
       "      <th>4</th>\n",
       "      <th>5</th>\n",
       "      <th>6</th>\n",
       "      <th>7</th>\n",
       "    </tr>\n",
       "  </thead>\n",
       "  <tbody>\n",
       "    <tr>\n",
       "      <th>140</th>\n",
       "      <td>None</td>\n",
       "      <td>None</td>\n",
       "      <td>None</td>\n",
       "      <td>None</td>\n",
       "      <td>None</td>\n",
       "      <td>None</td>\n",
       "      <td>None</td>\n",
       "    </tr>\n",
       "    <tr>\n",
       "      <th>231</th>\n",
       "      <td>None</td>\n",
       "      <td>None</td>\n",
       "      <td>None</td>\n",
       "      <td>None</td>\n",
       "      <td>None</td>\n",
       "      <td>None</td>\n",
       "      <td>None</td>\n",
       "    </tr>\n",
       "  </tbody>\n",
       "</table>\n",
       "</div>"
      ],
      "text/plain": [
       "        1     2     3     4     5     6     7\n",
       "140  None  None  None  None  None  None  None\n",
       "231  None  None  None  None  None  None  None"
      ]
     },
     "execution_count": 84,
     "metadata": {},
     "output_type": "execute_result"
    }
   ],
   "source": [
    "optimum.iloc[:, 1:].applymap(lambda x: duplicate_name_dict.get(x, None))"
   ]
  },
  {
   "cell_type": "code",
   "execution_count": 85,
   "metadata": {
    "collapsed": false
   },
   "outputs": [
    {
     "data": {
      "text/html": [
       "<div>\n",
       "<table border=\"1\" class=\"dataframe\">\n",
       "  <thead>\n",
       "    <tr style=\"text-align: right;\">\n",
       "      <th></th>\n",
       "      <th>0</th>\n",
       "      <th>1</th>\n",
       "      <th>2</th>\n",
       "      <th>3</th>\n",
       "      <th>4</th>\n",
       "      <th>5</th>\n",
       "      <th>6</th>\n",
       "      <th>7</th>\n",
       "    </tr>\n",
       "  </thead>\n",
       "  <tbody>\n",
       "    <tr>\n",
       "      <th>140</th>\n",
       "      <td>40</td>\n",
       "      <td>quartz</td>\n",
       "      <td>vanoxite</td>\n",
       "      <td>jedwabite</td>\n",
       "      <td>fukuchilite</td>\n",
       "      <td>gypsum</td>\n",
       "      <td>None</td>\n",
       "      <td>None</td>\n",
       "    </tr>\n",
       "    <tr>\n",
       "      <th>231</th>\n",
       "      <td>40</td>\n",
       "      <td>quartz</td>\n",
       "      <td>xifengite</td>\n",
       "      <td>jedwabite</td>\n",
       "      <td>chkalovite</td>\n",
       "      <td>gypsum</td>\n",
       "      <td>None</td>\n",
       "      <td>None</td>\n",
       "    </tr>\n",
       "  </tbody>\n",
       "</table>\n",
       "</div>"
      ],
      "text/plain": [
       "      0       1          2          3            4       5     6     7\n",
       "140  40  quartz   vanoxite  jedwabite  fukuchilite  gypsum  None  None\n",
       "231  40  quartz  xifengite  jedwabite   chkalovite  gypsum  None  None"
      ]
     },
     "execution_count": 85,
     "metadata": {},
     "output_type": "execute_result"
    }
   ],
   "source": [
    "optimum"
   ]
  },
  {
   "cell_type": "markdown",
   "metadata": {},
   "source": [
    "## Validate results"
   ]
  },
  {
   "cell_type": "code",
   "execution_count": 86,
   "metadata": {
    "collapsed": false
   },
   "outputs": [
    {
     "data": {
      "text/plain": [
       "140    True\n",
       "231    True\n",
       "dtype: bool"
      ]
     },
     "execution_count": 86,
     "metadata": {},
     "output_type": "execute_result"
    }
   ],
   "source": [
    "optimum.apply(lambda x: \"\".join(sorted(set(\"\".join(x.iloc[1:6].values)))) == string.ascii_lowercase, axis=1)"
   ]
  },
  {
   "cell_type": "code",
   "execution_count": null,
   "metadata": {
    "collapsed": true
   },
   "outputs": [],
   "source": []
  }
 ],
 "metadata": {
  "anaconda-cloud": {},
  "kernelspec": {
   "display_name": "Python [conda env:py35]",
   "language": "python",
   "name": "conda-env-py35-py"
  },
  "language_info": {
   "codemirror_mode": {
    "name": "ipython",
    "version": 3
   },
   "file_extension": ".py",
   "mimetype": "text/x-python",
   "name": "python",
   "nbconvert_exporter": "python",
   "pygments_lexer": "ipython3",
   "version": "3.5.2"
  }
 },
 "nbformat": 4,
 "nbformat_minor": 0
}
